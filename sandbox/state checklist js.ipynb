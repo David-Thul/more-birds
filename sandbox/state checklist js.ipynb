{
 "cells": [
  {
   "cell_type": "code",
   "execution_count": 1,
   "metadata": {
    "collapsed": true
   },
   "outputs": [],
   "source": [
    "import pandas as pd"
   ]
  },
  {
   "cell_type": "code",
   "execution_count": 2,
   "metadata": {},
   "outputs": [
    {
     "data": {
      "text/html": [
       "<div>\n",
       "<style>\n",
       "    .dataframe thead tr:only-child th {\n",
       "        text-align: right;\n",
       "    }\n",
       "\n",
       "    .dataframe thead th {\n",
       "        text-align: left;\n",
       "    }\n",
       "\n",
       "    .dataframe tbody tr th {\n",
       "        vertical-align: top;\n",
       "    }\n",
       "</style>\n",
       "<table border=\"1\" class=\"dataframe\">\n",
       "  <thead>\n",
       "    <tr style=\"text-align: right;\">\n",
       "      <th></th>\n",
       "      <th>birds</th>\n",
       "      <th>state</th>\n",
       "      <th>category_name</th>\n",
       "      <th>spCode</th>\n",
       "      <th>imgLink</th>\n",
       "    </tr>\n",
       "  </thead>\n",
       "  <tbody>\n",
       "    <tr>\n",
       "      <th>0</th>\n",
       "      <td>Abert's Towhee</td>\n",
       "      <td>AZ</td>\n",
       "      <td>sparrows</td>\n",
       "      <td>abetow</td>\n",
       "      <td>https://s3.amazonaws.com/com-aab-media/photo/7...</td>\n",
       "    </tr>\n",
       "    <tr>\n",
       "      <th>1</th>\n",
       "      <td>Abert's Towhee</td>\n",
       "      <td>CA</td>\n",
       "      <td>sparrows</td>\n",
       "      <td>abetow</td>\n",
       "      <td>https://s3.amazonaws.com/com-aab-media/photo/7...</td>\n",
       "    </tr>\n",
       "    <tr>\n",
       "      <th>2</th>\n",
       "      <td>Abert's Towhee</td>\n",
       "      <td>NM</td>\n",
       "      <td>sparrows</td>\n",
       "      <td>abetow</td>\n",
       "      <td>https://s3.amazonaws.com/com-aab-media/photo/7...</td>\n",
       "    </tr>\n",
       "    <tr>\n",
       "      <th>3</th>\n",
       "      <td>Abert's Towhee</td>\n",
       "      <td>NV</td>\n",
       "      <td>sparrows</td>\n",
       "      <td>abetow</td>\n",
       "      <td>https://s3.amazonaws.com/com-aab-media/photo/7...</td>\n",
       "    </tr>\n",
       "    <tr>\n",
       "      <th>4</th>\n",
       "      <td>Abert's Towhee</td>\n",
       "      <td>UT</td>\n",
       "      <td>sparrows</td>\n",
       "      <td>abetow</td>\n",
       "      <td>https://s3.amazonaws.com/com-aab-media/photo/7...</td>\n",
       "    </tr>\n",
       "  </tbody>\n",
       "</table>\n",
       "</div>"
      ],
      "text/plain": [
       "            birds state category_name  spCode  \\\n",
       "0  Abert's Towhee    AZ      sparrows  abetow   \n",
       "1  Abert's Towhee    CA      sparrows  abetow   \n",
       "2  Abert's Towhee    NM      sparrows  abetow   \n",
       "3  Abert's Towhee    NV      sparrows  abetow   \n",
       "4  Abert's Towhee    UT      sparrows  abetow   \n",
       "\n",
       "                                             imgLink  \n",
       "0  https://s3.amazonaws.com/com-aab-media/photo/7...  \n",
       "1  https://s3.amazonaws.com/com-aab-media/photo/7...  \n",
       "2  https://s3.amazonaws.com/com-aab-media/photo/7...  \n",
       "3  https://s3.amazonaws.com/com-aab-media/photo/7...  \n",
       "4  https://s3.amazonaws.com/com-aab-media/photo/7...  "
      ]
     },
     "execution_count": 2,
     "metadata": {},
     "output_type": "execute_result"
    }
   ],
   "source": [
    "stc = pd.read_csv('state_checklists.csv')\n",
    "stc.head()"
   ]
  },
  {
   "cell_type": "code",
   "execution_count": 3,
   "metadata": {
    "collapsed": true
   },
   "outputs": [],
   "source": [
    "stc_j = stc.to_json(orient='records')"
   ]
  },
  {
   "cell_type": "code",
   "execution_count": 4,
   "metadata": {
    "collapsed": true
   },
   "outputs": [],
   "source": [
    "import json\n",
    "with open('state_checklists.js', 'w') as outfile:\n",
    "    json.dump(stc_j, outfile)"
   ]
  }
 ],
 "metadata": {
  "kernelspec": {
   "display_name": "Python 3",
   "language": "python",
   "name": "python3"
  },
  "language_info": {
   "codemirror_mode": {
    "name": "ipython",
    "version": 3
   },
   "file_extension": ".py",
   "mimetype": "text/x-python",
   "name": "python",
   "nbconvert_exporter": "python",
   "pygments_lexer": "ipython3",
   "version": "3.6.2"
  }
 },
 "nbformat": 4,
 "nbformat_minor": 2
}
